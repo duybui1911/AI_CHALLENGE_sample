{
  "nbformat": 4,
  "nbformat_minor": 0,
  "metadata": {
    "colab": {
      "provenance": [],
      "gpuType": "T4"
    },
    "kernelspec": {
      "name": "python3",
      "display_name": "Python 3"
    },
    "language_info": {
      "name": "python"
    },
    "accelerator": "GPU"
  },
  "cells": [
    {
      "cell_type": "markdown",
      "source": [
        "# Clone code từ github và chuẩn bị môi trường"
      ],
      "metadata": {
        "id": "-oxcsWOgiu2a"
      }
    },
    {
      "cell_type": "code",
      "execution_count": null,
      "metadata": {
        "id": "DX5ZCS1BaktF"
      },
      "outputs": [],
      "source": [
        "!git clone https://github.com/duybui1911/AI_CHALLENGE_sample.git"
      ]
    },
    {
      "cell_type": "code",
      "source": [
        "%cd /content/AI_CHALLENGE_sample"
      ],
      "metadata": {
        "id": "3minkioY47iP"
      },
      "execution_count": null,
      "outputs": []
    },
    {
      "cell_type": "markdown",
      "source": [
        "#### Cài các thư viện cần thiết nè, cài mất tầm 5m gì đó. Đặt đây rồi đi pha cốc coffee xong là vừa :V"
      ],
      "metadata": {
        "id": "k61tM7mMqPaz"
      }
    },
    {
      "cell_type": "code",
      "source": [
        "!pip3 install -r requirements.txt"
      ],
      "metadata": {
        "id": "qpOYW3LnanR2"
      },
      "execution_count": null,
      "outputs": []
    },
    {
      "cell_type": "code",
      "source": [
        "from threading import Thread\n",
        "from typing import Iterator\n",
        "\n",
        "import torch\n",
        "from transformers import AutoModelForCausalLM, AutoTokenizer, TextIteratorStreamer\n",
        "\n",
        "from tools.utils import use_calculator\n",
        "from dataset import get_data, TestDataset"
      ],
      "metadata": {
        "id": "tMCfd6Md4uNB"
      },
      "execution_count": null,
      "outputs": []
    },
    {
      "cell_type": "markdown",
      "source": [
        "\n",
        "# Load model từ huggingface, như các bạn thấy ở hình dưới đây thì đây là 1 mô hình mình thấy khá ổn so với các model đồng trang lứa =))))\n",
        "<img src = https://raw.githubusercontent.com/nlpxucan/WizardLM/main/WizardMath/images/wizardmath_gsm8k.png>\n",
        "### Lưu ý 1: trước khi load model thì nên đăng nhập vô huggingface trước cho đỡ lỗi nha các bro :v\n",
        "### Link đăng nhập: <https://huggingface.co/login>\n",
        "\n",
        "### Lưu ý 2: Do mình soạn hướng dẫn này với bản colab dùng chùa nên bị giới hạn nhiều về VRAM, vì vậy mình load model chỉ với float16. Điều này sẽ làm giảm tính chính xác 1 chút của mô hình, nếu bạn nào nạp VJP thì có thể để lên float32 or float64 nhé 🧛\n",
        "\n",
        "\n",
        "### Lưu ý 3: Load model lâu vch nên lần này uống xong coffee thì kiếm chỗ nào buôn chuyện tầm 10m rồi quay lại :v"
      ],
      "metadata": {
        "id": "1Cjm-zkYjCfL"
      }
    },
    {
      "cell_type": "code",
      "source": [
        "model_name = 'WizardLM/WizardMath-7B-V1.0'\n",
        "if torch.cuda.is_available():\n",
        "    model = AutoModelForCausalLM.from_pretrained(\n",
        "        model_name,\n",
        "        torch_dtype=torch.float16,\n",
        "        device_map='auto'\n",
        "    )\n",
        "else:\n",
        "    model = None\n",
        "tokenizer = AutoTokenizer.from_pretrained(model_name)"
      ],
      "metadata": {
        "id": "Lqj_z07qQv0r"
      },
      "execution_count": null,
      "outputs": []
    },
    {
      "cell_type": "markdown",
      "source": [
        "# Sau khi load model thành công thì chạy các hàm để gọi kết quả như sau"
      ],
      "metadata": {
        "id": "A9811mRlj2oq"
      }
    },
    {
      "cell_type": "markdown",
      "source": [
        "### Hàm config prompt cho model"
      ],
      "metadata": {
        "id": "DvizB83qkKW7"
      }
    },
    {
      "cell_type": "code",
      "source": [
        "def get_prompt(message: str, chat_history: list[tuple[str, str]],\n",
        "               system_prompt: str) -> str:\n",
        "    texts = [f'[INST] <<SYS>>\\n{system_prompt}\\n<</SYS>>\\n\\n']\n",
        "    #for user_input, response in chat_history:\n",
        "    #    texts.append(f'{user_input.strip()} [/INST] {response.strip()}[INST] ')\n",
        "    texts.append(f'{message.strip()} [/INST]')\n",
        "    return ''.join(texts)"
      ],
      "metadata": {
        "id": "FhC0hitdkR4k"
      },
      "execution_count": null,
      "outputs": []
    },
    {
      "cell_type": "markdown",
      "source": [
        "### Hàm thực thi chính khi run model"
      ],
      "metadata": {
        "id": "NkzzsDf6kSKk"
      }
    },
    {
      "cell_type": "code",
      "source": [
        "def run(message: str,\n",
        "        chat_history: list[tuple[str, str]],\n",
        "        system_prompt: str,\n",
        "        max_new_tokens: int = 100,\n",
        "        temperature: float = 0.5,\n",
        "        top_p: float = 0.95,\n",
        "        top_k: int = 50) -> Iterator[str]:\n",
        "    prompt = get_prompt(message, chat_history, system_prompt)\n",
        "    inputs = tokenizer([prompt], return_tensors='pt').to(\"cuda\")\n",
        "\n",
        "    streamer = TextIteratorStreamer(tokenizer,\n",
        "                                    timeout=10.,\n",
        "                                    skip_prompt=True,\n",
        "                                    skip_special_tokens=True)\n",
        "    generate_kwargs = dict(\n",
        "        inputs,\n",
        "        streamer=streamer,\n",
        "        max_new_tokens=max_new_tokens,\n",
        "        do_sample=True,\n",
        "        top_p=top_p,\n",
        "        top_k=top_k,\n",
        "        temperature=temperature,\n",
        "        num_beams=1,\n",
        "    )\n",
        "    t = Thread(target=model.generate, kwargs=generate_kwargs)\n",
        "    t.start()\n",
        "\n",
        "    outputs = []\n",
        "    for text in streamer:\n",
        "        outputs.append(text)\n",
        "        yield ''.join(outputs)"
      ],
      "metadata": {
        "id": "FsBDk3XskZ2J"
      },
      "execution_count": null,
      "outputs": []
    },
    {
      "cell_type": "markdown",
      "source": [
        "### Hàm gọi và gen kết quả"
      ],
      "metadata": {
        "id": "cwUvC5mUkk2R"
      }
    },
    {
      "cell_type": "code",
      "source": [
        "def generate(\n",
        "    message: str,\n",
        "    history_with_input: list[tuple[str, str]],\n",
        "    system_prompt: str,\n",
        "    max_new_tokens: int,\n",
        "    top_p: float,\n",
        "    temperature: float,\n",
        "    top_k: int,\n",
        ") -> Iterator[list[tuple[str, str]]]:\n",
        "\n",
        "    history = history_with_input[:-1]\n",
        "    generator = run(message, history, system_prompt, max_new_tokens,\n",
        "                    temperature, top_p, top_k)\n",
        "    try:\n",
        "        first_response = next(generator)\n",
        "        yield history + [(message, first_response)]\n",
        "    except StopIteration:\n",
        "        yield history + [(message, '')]\n",
        "    for response in generator:\n",
        "        yield history + [(message, response)]"
      ],
      "metadata": {
        "id": "npcwlc-YWn8M"
      },
      "execution_count": null,
      "outputs": []
    },
    {
      "cell_type": "code",
      "source": [
        "def process_example(message: str,\n",
        "                    system_prompt: str,\n",
        "                    max_new_tokens: int,\n",
        "                    top_p: float,\n",
        "                    temperature: float,\n",
        "                    top_k: int,) -> tuple[str, list[tuple[str, str]]]:\n",
        "    generator = generate(\n",
        "                          message= message,\n",
        "                          history_with_input= [],\n",
        "                          system_prompt= system_prompt,\n",
        "                          max_new_tokens= max_new_tokens,\n",
        "                          top_p= top_p,\n",
        "                          temperature= temperature,\n",
        "                          top_k= top_k,\n",
        "                          )\n",
        "    for x in generator:\n",
        "        pass\n",
        "    return '', x"
      ],
      "metadata": {
        "id": "lHkEZhK7WrLM"
      },
      "execution_count": null,
      "outputs": []
    },
    {
      "cell_type": "markdown",
      "source": [
        "### Hàm convert từ kết quả model gen ra sang định dạng file nộp"
      ],
      "metadata": {
        "id": "TO_xPt1Sk8Q8"
      }
    },
    {
      "cell_type": "code",
      "source": [
        "# Input dạng: 'The answer is: 80.' và chuỗi options\n",
        "# Output sẽ là đáp án chứa 80 hoặc 80 nếu options = \"\"\n",
        "import re\n",
        "def convert_to_submit_file(api_result: str = '', options: str = ''):\n",
        "    api_result = ((api_result.replace('/s', '')).replace('\\n', '')).replace(' ', '')\n",
        "    api_result = re.sub(r'[^a-zA-Z0-9.:\\\\)]', '', api_result)\n",
        "    answer_start = api_result.lower().find(\":\")\n",
        "    if answer_start != -1:\n",
        "        if api_result[-1] == '.':\n",
        "            api_result = api_result[:-1]\n",
        "        answer_part = api_result[answer_start + 1:].strip()\n",
        "        if any(c.isalpha() for c in answer_part):\n",
        "            answer = answer_part[0:answer_part.find(\")\")]\n",
        "            answer =  answer.lower()\n",
        "\n",
        "        else:\n",
        "            answer = answer_part.lower()\n",
        "\n",
        "        if options != '':\n",
        "            options = options.lower().replace(\" \", \"\")\n",
        "            if is_number(answer):\n",
        "              answer_id = options.find(str(answer))\n",
        "              character_id = options.rfind(')', 0, answer_id)\n",
        "              answer = options[character_id-1]\n",
        "            else:\n",
        "              answer = answer\n",
        "            #for option in options_lower.split(','):\n",
        "            #    if ' ' + option.strip() + ' ' in api_result.lower():\n",
        "            #        return option.strip()\n",
        "        return answer\n",
        "\n",
        "    return 'Nan'\n",
        "\n",
        "def is_number(s):\n",
        "    try:\n",
        "        float(s)\n",
        "        return True\n",
        "    except ValueError:\n",
        "        return False"
      ],
      "metadata": {
        "id": "KmoH6j423klE"
      },
      "execution_count": null,
      "outputs": []
    },
    {
      "cell_type": "markdown",
      "source": [
        "### Sửa link dữ liệu ở đây nhé, tuy nhiên mình khuyên nên dùng luôn folder data và nếu sử dụng ảnh thì upload luôn lên đó.\n",
        "\n",
        "#### Lại 1 cái lưu ý nữa: Do model nặng rồi với cả colab không cho load file json quá nặng đâu. Nên các bạn nên chạy số lượng câu nhỏ hơn **30K** dòng nhé. Như thế thì file test sẽ phải chia ra làm 3 file rồi khi xong thì nối các file vào 1 để submit, mình cũng chia luôn cho các bạn rồi đấy ✌\n",
        "\n",
        "#### **Lưu ý cuối cùng 1:** Sau khi chạy xong file test nào thì download luôn file kết quả đó về rồi nhé, đề phòng trường hợp các bạn may mắn bị anh gg ngắt giữa chừng thì bay mất gói coffee  =)))))))))\n",
        "#### File kết quả tương ứng là: results1.txt cho test1.json, ..., nối file results1.txt, results2.txt, results2.txt lần lượt từ trên xuống thành 1 file tổng results.txt xong zip lại là okii rùi"
      ],
      "metadata": {
        "id": "K-ZWR-hZqmZJ"
      }
    },
    {
      "cell_type": "code",
      "source": [
        "data_link = './data/'"
      ],
      "metadata": {
        "id": "wurmz3rSkZ5L"
      },
      "execution_count": null,
      "outputs": []
    },
    {
      "cell_type": "code",
      "source": [
        "file_names = ['test1.json', 'test2.json', 'test3.json']"
      ],
      "metadata": {
        "id": "JUKhAsFUpvhp"
      },
      "execution_count": null,
      "outputs": []
    },
    {
      "cell_type": "code",
      "source": [
        "import time\n",
        "import os\n",
        "from google.colab import files\n",
        "\n",
        "for file_id, file_name in enumerate(file_names):\n",
        "    submit_list = []\n",
        "    test_examples = get_data(os.path.join(data_link, file_name))\n",
        "    with open(f'./results/results{file_id+1}.txt', 'w') as f:\n",
        "        for problem in test_examples:\n",
        "            # Thay đổi prompt của các bạn ở đây, nên tạo prompt hướng vẫn và chia nhỏ các chủ đề để\n",
        "            # kết quả được tốt hơn.\n",
        "            # Lưu ý: Mình chưa xử lý phần ảnh, nên các bạn có thể xử lý thêm vào phần này rồi nối vào prompt hoặc ques\n",
        "\n",
        "            prompt = \"Help me choose the correct answer to the following problem.\"\n",
        "            if problem[\"options\"] != \"\":\n",
        "                prompt += \" Note: you only need to provide the letter that precedes the correct answer. For example: a). Here is the question:\"\n",
        "            else:\n",
        "              prompt += \" Note: you only need to give the correct answer. For example: 10. Here is the question:\"\n",
        "            ques = '\\nQuestion:' + problem[\"Problem\"]\n",
        "            max_len = 15\n",
        "            sys_rq = prompt + ques\n",
        "            try:\n",
        "                start = time.time()\n",
        "                answer = process_example(\n",
        "                        message= ques,  # Cái này là câu hỏi và options\n",
        "                        system_prompt= prompt, # Cái này là hướng dẫn nó\n",
        "                        max_new_tokens = max_len, # Đây là độ dài tối đa của phần model trả về\n",
        "                        top_p= 0.9, # 3 tham số này các bạn xem lại buổi 2 mình có nói rồi nhé\n",
        "                        temperature= 0.5,\n",
        "                        top_k= 200\n",
        "                )\n",
        "                _, answer = answer[1][0]\n",
        "                end = time.time()\n",
        "                submit_item = convert_to_submit_file(answer, problem[\"options\"])\n",
        "                submit_list.append(submit_item)\n",
        "            except Exception as e:\n",
        "                submit_list.append('Nan')\n",
        "                print(e)\n",
        "            print(f\"Test {file_id+1}\\tTime {problem['id']}: {end-start}, answer: {submit_item}\")\n",
        "            f.write(submit_list[-1] + '\\t' + str(end-start) + '\\n')\n",
        "    print(f'\\n-------------------------------------------\\nEND test{file_id+1}.json\\n-------------------------------------------\\n')\n"
      ],
      "metadata": {
        "id": "Ih8pl1d6Gwfp"
      },
      "execution_count": null,
      "outputs": []
    },
    {
      "cell_type": "markdown",
      "source": [
        "### **Lưu ý cuối cùng 2:** Thi thoảng xóa cái nó chạy gen ra màn hình đi và thi thoảng tương tác với giao diện của colab cái không bỏ lâu nó dỗi nó ngắt kết nối là đi tong đấy. Ny mà mình bơ còn bị đá nữa là đang dùng chùa :v  "
      ],
      "metadata": {
        "id": "zH5_mvrZUIUp"
      }
    },
    {
      "cell_type": "markdown",
      "source": [
        "## Chúc các bạn chạy không bug và đượt kết quả tốt :v"
      ],
      "metadata": {
        "id": "8yhXm_jDPzYE"
      }
    }
  ]
}